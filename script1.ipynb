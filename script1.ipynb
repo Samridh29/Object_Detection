{
 "cells": [
  {
   "cell_type": "markdown",
   "metadata": {},
   "source": [
    "<h1>Object Detection</h1>\n",
    "<h2>Importing the libraries</h2>"
   ]
  },
  {
   "cell_type": "code",
   "execution_count": 2,
   "metadata": {},
   "outputs": [],
   "source": [
    "import cv2 \n",
    "import numpy as np"
   ]
  },
  {
   "cell_type": "code",
   "execution_count": null,
   "metadata": {},
   "outputs": [],
   "source": [
    "def displayImage(image, text):\n",
    "    cv2.imshow(text, image)\n",
    "    cv2.waitKey(0)\n",
    "    cv2.destroyAllWindows()"
   ]
  },
  {
   "cell_type": "markdown",
   "metadata": {},
   "source": [
    "<h2>Loading the model</h2>"
   ]
  },
  {
   "cell_type": "code",
   "execution_count": 7,
   "metadata": {},
   "outputs": [],
   "source": [
    "net = cv2.dnn.readNetFromCaffe('deploy.prototxt.txt', 'res10_300x300_ssd_iter_140000.caffemodel')\n",
    "image = cv2.imread('./iron_chic.jpg')\n",
    "(h,w) = image.shape[:2]\n",
    "#Creating a blob from the image\n",
    "blob = cv2.dnn.blobFromImage(cv2.resize(image, (300,300)), 1.0, (300, 300), (104.0, 177.0, 123.0))"
   ]
  },
  {
   "cell_type": "markdown",
   "metadata": {},
   "source": [
    "<h2>Detecting Faces</h2>"
   ]
  },
  {
   "cell_type": "code",
   "execution_count": 16,
   "metadata": {},
   "outputs": [
    {
     "name": "stdout",
     "output_type": "stream",
     "text": [
      "[500 500 500 500]\n",
      "[500 500 500 500]\n",
      "[500 500 500 500]\n"
     ]
    }
   ],
   "source": [
    "net.setInput(blob)\n",
    "detections = net.forward()\n",
    "\n",
    "for i in range(0, detections.shape[2]):\n",
    "    confidence = detections[0, 0, i, 2] # confidence of the prediction\n",
    "    if confidence > 0.5: #\n",
    "        box = detections[0, 0, i, 3:7] * np.array([w, h, w, h]) #getting the x-y coordinates of the bounding box\n",
    "        (startX, startY, endX, endY) = box.astype(\"int\")\n",
    "        text = \"{:.2f}%\".format(confidence*100)\n",
    "        #drawing the bounding box and the confidence of the prediction\n",
    "        y = startY - 10 if startY - 10 > 10 else startY+10\n",
    "        cv2.rectangle(image, (startX, startY), (endX, endY), (0,0,255), 2)\n",
    "        cv2.putText(image, text, (startX, y), cv2.FONT_HERSHEY_SIMPLEX, 0.45, (0,0,255), 2)\n",
    "\n",
    "displayImage(iamge, 'Intial Dectetions')"
   ]
  }
 ],
 "metadata": {
  "kernelspec": {
   "display_name": "Python 3.9.0 64-bit",
   "language": "python",
   "name": "python3"
  },
  "language_info": {
   "codemirror_mode": {
    "name": "ipython",
    "version": 3
   },
   "file_extension": ".py",
   "mimetype": "text/x-python",
   "name": "python",
   "nbconvert_exporter": "python",
   "pygments_lexer": "ipython3",
   "version": "3.9.0"
  },
  "orig_nbformat": 4,
  "vscode": {
   "interpreter": {
    "hash": "aee8b7b246df8f9039afb4144a1f6fd8d2ca17a180786b69acc140d282b71a49"
   }
  }
 },
 "nbformat": 4,
 "nbformat_minor": 2
}

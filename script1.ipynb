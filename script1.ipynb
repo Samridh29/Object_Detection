{
 "cells": [
  {
   "cell_type": "markdown",
   "metadata": {},
   "source": [
    "<h1>Object Detection</h1>\n",
    "<h2>Importing the libraries</h2>"
   ]
  },
  {
   "cell_type": "code",
   "execution_count": 1,
   "metadata": {},
   "outputs": [],
   "source": [
    "import cv2 \n",
    "import numpy as np\n",
    "from imutils.video import FPS\n",
    "import time\n",
    "from imutils.video import VideoStream"
   ]
  },
  {
   "cell_type": "code",
   "execution_count": 2,
   "metadata": {},
   "outputs": [],
   "source": [
    "def displayImage(image, text):\n",
    "    cv2.imshow(text, image)\n",
    "    cv2.waitKey(0)\n",
    "    cv2.destroyAllWindows()"
   ]
  },
  {
   "cell_type": "markdown",
   "metadata": {},
   "source": [
    "<h2>Initalizing class labels</h2>"
   ]
  },
  {
   "cell_type": "code",
   "execution_count": 3,
   "metadata": {},
   "outputs": [],
   "source": [
    "CLASSES = [\"background\", \"aeroplane\", \"bicycle\", \"bird\", \"boat\",\n",
    "\t\"bottle\", \"bus\", \"car\", \"cat\", \"chair\", \"cow\", \"diningtable\",\n",
    "\t\"dog\", \"horse\", \"motorbike\", \"person\", \"pottedplant\", \"sheep\",\n",
    "\t\"sofa\", \"train\", \"tvmonitor\"]\n",
    "COLORS = np.random.uniform(0, 255, size=(len(CLASSES), 3))\n"
   ]
  },
  {
   "cell_type": "markdown",
   "metadata": {},
   "source": [
    "<h2>Loading the model</h2>"
   ]
  },
  {
   "cell_type": "code",
   "execution_count": 5,
   "metadata": {},
   "outputs": [],
   "source": [
    "net = cv2.dnn.readNetFromCaffe('SSD_MobileNet_prototxt.txt', 'SSD_MobileNet.caffemodel') \n",
    "image = cv2.imread('/Users/samridhagarwal/Pictures/mandy and me 2.jpg') \n",
    "(h,w) = image.shape[:2]\n",
    "#Creating a blob from the image\n",
    "blob = cv2.dnn.blobFromImage(cv2.resize(image, (300,300)), 0.007843, (300, 300), 127.5)"
   ]
  },
  {
   "cell_type": "markdown",
   "metadata": {},
   "source": [
    "<h2>Detecting Objects</h2>"
   ]
  },
  {
   "cell_type": "code",
   "execution_count": 9,
   "metadata": {},
   "outputs": [],
   "source": [
    "net.setInput(blob)\n",
    "detections = net.forward()\n",
    "for i in range(0, detections.shape[2]):\n",
    "    confidence = detections[0, 0, i, 2] # confidence of the prediction\n",
    "    if confidence > 0.2: \n",
    "        idx = int(detections[0,0,i,1])\n",
    "        box = detections[0, 0, i, 3:7] * np.array([w, h, w, h]) #getting the x-y coordinates of the bounding box\n",
    "        (startX, startY, endX, endY) = box.astype(\"int\")\n",
    "        text = \"{}: {:.2f}%\".format(CLASSES[idx], confidence * 100)\n",
    "        #drawing the bounding box and the confidence of the prediction\n",
    "        y = startY - 15 if startY - 15 > 15 else startY+15\n",
    "        cv2.rectangle(image, (startX, startY), (endX, endY), (0,0,255), 2)\n",
    "        cv2.putText(image, text, (startX, y),cv2.FONT_HERSHEY_SIMPLEX, 0.5, COLORS[idx], 2)\n",
    "            \n",
    "displayImage(image, 'Intial Dectetions')"
   ]
  },
  {
   "cell_type": "markdown",
   "metadata": {},
   "source": [
    "<h2>Detecting Objects in real-time using webcam</h2>"
   ]
  },
  {
   "cell_type": "code",
   "execution_count": 4,
   "metadata": {},
   "outputs": [],
   "source": [
    "#laoding the model\n",
    "model = cv2.dnn.readNetFromCaffe('SSD_MobileNet_prototxt.txt', 'SSD_MobileNet.caffemodel') \n",
    "#start video capture\n",
    "vs = VideoStream(src=0).start()\n",
    "time.sleep(2.0)\n",
    "fps = FPS().start()\n"
   ]
  },
  {
   "cell_type": "markdown",
   "metadata": {},
   "source": [
    "<h2>Detecting objects</h2>"
   ]
  },
  {
   "cell_type": "code",
   "execution_count": 5,
   "metadata": {},
   "outputs": [],
   "source": [
    "while True:\n",
    "    frame = vs.read() #reading the frame\n",
    "    (h, w, d) = frame.shape\n",
    "    # resizing the frame\n",
    "    r = 700.0/ w\n",
    "    dim = (700, int(h*r))\n",
    "    frame = cv2.resize(frame, dim)\n",
    "    (h,w) = frame.shape[:2]\n",
    "    blob = cv2.dnn.blobFromImage(cv2.resize(frame, (300, 300)), 0.007843, (300, 300),127.5)\n",
    "    model.setInput(blob)\n",
    "    detections = model.forward()\n",
    "\n",
    "    for i in range(0, detections.shape[2]):\n",
    "        confidence = detections[0, 0, i, 2] # confidence of the prediction\n",
    "        if confidence > 0.2: \n",
    "            idx = int(detections[0,0,i,1])\n",
    "            box = detections[0, 0, i, 3:7] * np.array([w, h, w, h]) #getting the x-y coordinates of the bounding box\n",
    "            (startX, startY, endX, endY) = box.astype(\"int\")\n",
    "            text = \"{}:{:.2f}%\".format(CLASSES[idx], confidence*100)\n",
    "            #drawing the bounding box and the confidence of the prediction\n",
    "            y = startY - 15 if startY - 15 > 15 else startY+15\n",
    "            cv2.rectangle(frame, (startX, startY), (endX, endY), (0,0,255), 2)\n",
    "            cv2.putText(frame, text, (startX, y), cv2.FONT_HERSHEY_SIMPLEX, 0.45, COLORS[idx], 2)\n",
    "            cv2.imshow(\"Image\", frame)\n",
    "            key = cv2.waitKey(1) & 0xFF\n",
    "            if key == ord(\"q\"):\n",
    "                break\n",
    "            fps.update()\n",
    "fps.stop()\n",
    "cv2.destroyAllWindows()\n",
    "vs.stop()\n",
    "\n"
   ]
  }
 ],
 "metadata": {
  "kernelspec": {
   "display_name": "Python 3.9.0 64-bit",
   "language": "python",
   "name": "python3"
  },
  "language_info": {
   "codemirror_mode": {
    "name": "ipython",
    "version": 3
   },
   "file_extension": ".py",
   "mimetype": "text/x-python",
   "name": "python",
   "nbconvert_exporter": "python",
   "pygments_lexer": "ipython3",
   "version": "3.9.0"
  },
  "orig_nbformat": 4,
  "vscode": {
   "interpreter": {
    "hash": "aee8b7b246df8f9039afb4144a1f6fd8d2ca17a180786b69acc140d282b71a49"
   }
  }
 },
 "nbformat": 4,
 "nbformat_minor": 2
}
